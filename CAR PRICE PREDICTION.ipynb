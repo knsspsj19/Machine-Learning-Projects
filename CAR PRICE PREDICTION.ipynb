{
 "cells": [
  {
   "cell_type": "code",
   "execution_count": 1,
   "id": "7aeef831",
   "metadata": {},
   "outputs": [],
   "source": [
    "import pandas as pd\n",
    "import numpy as np"
   ]
  },
  {
   "cell_type": "code",
   "execution_count": 2,
   "id": "4868d22a",
   "metadata": {},
   "outputs": [],
   "source": [
    "train=pd.read_csv(\"Train_cars.csv\")\n",
    "test=pd.read_csv(\"Test_cars.csv\")\n",
    "ss=pd.read_csv(\"Sample_Submission.csv\")"
   ]
  },
  {
   "cell_type": "code",
   "execution_count": 3,
   "id": "330064b6",
   "metadata": {},
   "outputs": [
    {
     "data": {
      "text/plain": [
       "Name                     0\n",
       "Location                 0\n",
       "Year                     0\n",
       "Kilometers_Driven        0\n",
       "Fuel_Type                0\n",
       "Transmission             0\n",
       "Owner_Type               0\n",
       "Mileage                341\n",
       "Engine                 106\n",
       "Power                  317\n",
       "Seats                  338\n",
       "New_Price            61934\n",
       "Price                52500\n",
       "dtype: int64"
      ]
     },
     "execution_count": 3,
     "metadata": {},
     "output_type": "execute_result"
    }
   ],
   "source": [
    "comb=pd.concat([train,test],axis=0)\n",
    "comb.isnull().sum()"
   ]
  },
  {
   "cell_type": "code",
   "execution_count": 4,
   "id": "b9ad85d6",
   "metadata": {},
   "outputs": [],
   "source": [
    "comb.head()\n",
    "    \n",
    "comb[\"Brand\"]=[i[0] for i in comb[\"Name\"].str.split()]"
   ]
  },
  {
   "cell_type": "code",
   "execution_count": 5,
   "id": "3aaa3c68",
   "metadata": {},
   "outputs": [],
   "source": [
    "comb[\"M1\"]=[i[1] for i in comb[\"Name\"].str.split()]\n",
    "comb[\"M2\"]=[i[2] for i in comb[\"Name\"].str.split()]\n",
    "comb[\"M3\"]=[i[-1] for i in comb[\"Name\"].str.split()]"
   ]
  },
  {
   "cell_type": "code",
   "execution_count": 6,
   "id": "d0b71378",
   "metadata": {},
   "outputs": [],
   "source": [
    "comb.drop(\"Name\",axis=1,inplace=True)"
   ]
  },
  {
   "cell_type": "code",
   "execution_count": 7,
   "id": "1fd17c39",
   "metadata": {},
   "outputs": [],
   "source": [
    "comb[\"Location\"].value_counts()\n",
    "def loc(i):\n",
    "    if i in [\"Delhi\", \"Mumbai\", \"Bangalore\", \"Chennai\", \"Hyderabad\", \"Kolkata\", \"Ahmedabad\",\"Pune\"]:\n",
    "        return 1\n",
    "    else:\n",
    "        return 0\n",
    "    \n",
    "comb[\"Location\"]=comb[\"Location\"].apply(loc)"
   ]
  },
  {
   "cell_type": "code",
   "execution_count": 8,
   "id": "27188a6f",
   "metadata": {},
   "outputs": [],
   "source": [
    "comb[\"old\"]=2022-comb.Year"
   ]
  },
  {
   "cell_type": "code",
   "execution_count": 9,
   "id": "75e96035",
   "metadata": {},
   "outputs": [],
   "source": [
    "comb.drop(\"Year\",axis=1,inplace=True)"
   ]
  },
  {
   "cell_type": "code",
   "execution_count": 10,
   "id": "474830ba",
   "metadata": {},
   "outputs": [],
   "source": [
    "comb=pd.concat([comb,pd.get_dummies(comb.Fuel_Type,drop_first=True)],axis=1)"
   ]
  },
  {
   "cell_type": "code",
   "execution_count": 11,
   "id": "ea06bd36",
   "metadata": {},
   "outputs": [],
   "source": [
    "comb.drop(\"Fuel_Type\",axis=1,inplace=True)"
   ]
  },
  {
   "cell_type": "code",
   "execution_count": 12,
   "id": "7e4d8d2c",
   "metadata": {},
   "outputs": [],
   "source": [
    "comb.Transmission.value_counts()\n",
    "def trans(i):\n",
    "    if i==\"Manual\":\n",
    "        return 0\n",
    "    else:\n",
    "        return 1\n",
    "    \n",
    "comb[\"Transmission\"]=comb.Transmission.apply(trans)"
   ]
  },
  {
   "cell_type": "code",
   "execution_count": 13,
   "id": "51f4bf8f",
   "metadata": {},
   "outputs": [],
   "source": [
    "comb.head()\n",
    "comb.Owner_Type.value_counts()\n",
    "def own(i):\n",
    "    if i==\"Fourth & Above\":\n",
    "        return 0\n",
    "    elif i==\"Third\":\n",
    "        return 1\n",
    "    elif i==\"Second\":\n",
    "        return 2\n",
    "    else:\n",
    "        return 3\n",
    "    \n",
    "comb.Owner_Type=comb.Owner_Type.apply(own)"
   ]
  },
  {
   "cell_type": "code",
   "execution_count": 14,
   "id": "d64fb810",
   "metadata": {},
   "outputs": [],
   "source": [
    "comb.Mileage=pd.to_numeric(comb.Mileage.replace(regex=[\"kmpl\",\"km/kg\"],value=\"\"))"
   ]
  },
  {
   "cell_type": "code",
   "execution_count": 15,
   "id": "3b7fea0d",
   "metadata": {},
   "outputs": [],
   "source": [
    "comb.head()\n",
    "comb.Engine=pd.to_numeric(comb.Engine.replace(regex=[\"CC\"],value=\"\"))"
   ]
  },
  {
   "cell_type": "code",
   "execution_count": 16,
   "id": "03257a9a",
   "metadata": {},
   "outputs": [],
   "source": [
    "comb.head()\n",
    "comb.Power=pd.to_numeric(comb.Power.replace(regex=[\"bhp\",\"null\"],value=[\"\",np.NaN]))"
   ]
  },
  {
   "cell_type": "code",
   "execution_count": 17,
   "id": "b445b8c5",
   "metadata": {},
   "outputs": [],
   "source": [
    "comb.head()\n",
    "#comb.New_Price=\n",
    "comb.New_Price=pd.to_numeric(comb.New_Price.replace(regex=[\"Lakh\",\"Cr\"],value=\"\"))"
   ]
  },
  {
   "cell_type": "code",
   "execution_count": 18,
   "id": "db67d36b",
   "metadata": {},
   "outputs": [
    {
     "data": {
      "text/plain": [
       "0.9514151476265318"
      ]
     },
     "execution_count": 18,
     "metadata": {},
     "output_type": "execute_result"
    }
   ],
   "source": [
    "pd.get_dummies(comb.Brand,drop_first=True)\n",
    "from sklearn.decomposition import PCA\n",
    "pca=PCA(n_components=15)\n",
    "brand_pca=pd.DataFrame(pca.fit_transform(pd.get_dummies(comb[\"Brand\"],drop_first=True)))\n",
    "sum(pca.explained_variance_ratio_)"
   ]
  },
  {
   "cell_type": "code",
   "execution_count": 19,
   "id": "278b5474",
   "metadata": {},
   "outputs": [
    {
     "data": {
      "text/plain": [
       "0.11564393498326209"
      ]
     },
     "execution_count": 19,
     "metadata": {},
     "output_type": "execute_result"
    }
   ],
   "source": [
    "comb.M3.value_counts()\n",
    "pca=PCA(n_components=5)\n",
    "model_pca=pd.DataFrame(pca.fit_transform(pd.get_dummies(comb[[\"M1\",\"M2\",\"M3\"]],drop_first=True)),columns=[\"MP1\",\"MP2\",\"MP3\",\"MP4\",\"MP5\"])\n",
    "sum(pca.explained_variance_ratio_)"
   ]
  },
  {
   "cell_type": "code",
   "execution_count": 20,
   "id": "46660015",
   "metadata": {},
   "outputs": [],
   "source": [
    "#pd.concat([comb,brand_pca.reset_index()],axis=1)\n",
    "df=pd.concat([pd.concat([comb.reset_index(),brand_pca.reset_index()],axis=1),model_pca],axis=1).drop([\"Brand\",\"M1\",\"M2\",\"M3\"],axis=1)"
   ]
  },
  {
   "cell_type": "code",
   "execution_count": 21,
   "id": "2445751b",
   "metadata": {},
   "outputs": [],
   "source": [
    "df=df.drop(\"index\",axis=1)"
   ]
  },
  {
   "cell_type": "code",
   "execution_count": 22,
   "id": "9070c661",
   "metadata": {},
   "outputs": [],
   "source": [
    "df.iloc[:,:10].corr()\n",
    "df=df.sort_values([\"Transmission\",\"Seats\",\"Engine\"]).drop(\"New_Price\",axis=1)"
   ]
  },
  {
   "cell_type": "code",
   "execution_count": null,
   "id": "5ae82c25",
   "metadata": {},
   "outputs": [
    {
     "name": "stderr",
     "output_type": "stream",
     "text": [
      "G:\\anaconda\\lib\\site-packages\\sklearn\\utils\\validation.py:1858: FutureWarning: Feature names only support names that are all strings. Got feature names with dtypes: ['int', 'str']. An error will be raised in 1.2.\n",
      "  warnings.warn(\n",
      "G:\\anaconda\\lib\\site-packages\\sklearn\\utils\\validation.py:1858: FutureWarning: Feature names only support names that are all strings. Got feature names with dtypes: ['int', 'str']. An error will be raised in 1.2.\n",
      "  warnings.warn(\n"
     ]
    }
   ],
   "source": [
    "#df=df.ffill().bfill().reset_index().drop(\"index\",axis=1)\n",
    "from sklearn.impute import KNNImputer\n",
    "knn=KNNImputer(n_neighbors=5)\n",
    "df=knn.fit_transform(df)"
   ]
  },
  {
   "cell_type": "code",
   "execution_count": null,
   "id": "a69af08c",
   "metadata": {},
   "outputs": [],
   "source": [
    "df.head()\n",
    "from sklearn.preprocessing import StandardScaler\n",
    "scaler=StandardScaler()\n",
    "scaled=pd.DataFrame(scaler.fit_transform(df[[\"Kilometers_Driven\",\"Mileage\",\"Engine\",\"Power\"]]),columns=[\"Kilometers_Driven_sc\",\"Mileage_sc\",\"Engine_sc\",\"Power_sc\"])"
   ]
  },
  {
   "cell_type": "code",
   "execution_count": null,
   "id": "ba2e2ea6",
   "metadata": {},
   "outputs": [],
   "source": [
    "df1=pd.concat([df,scaled],axis=1).drop([\"Kilometers_Driven\",\"Mileage\",\"Engine\",\"Power\"],axis=1)"
   ]
  },
  {
   "cell_type": "code",
   "execution_count": null,
   "id": "21826b48",
   "metadata": {},
   "outputs": [],
   "source": [
    "df1.head()\n",
    "train.shape\n",
    "df_train=df1.iloc[:22500,:]\n",
    "df_test=df1.iloc[22500:,:]\n",
    "xtrain=df_train.drop(\"Price\",axis=1)\n",
    "ytrain=df_train[\"Price\"]\n",
    "xtest=df_test.drop(\"Price\",axis=1)\n",
    "\n"
   ]
  },
  {
   "cell_type": "code",
   "execution_count": null,
   "id": "b6317406",
   "metadata": {},
   "outputs": [],
   "source": [
    "from sklearn.metrics import mean_squared_error"
   ]
  },
  {
   "cell_type": "code",
   "execution_count": null,
   "id": "f4cc5074",
   "metadata": {},
   "outputs": [],
   "source": [
    "from sklearn.linear_model import LinearRegression\n",
    "from sklearn.model_selection import train_test_split\n",
    "x1,x2,y1,y2=train_test_split(xtrain,ytrain,test_size=0.25)\n",
    "lin=LinearRegression()\n",
    "model=lin.fit(x1,y1)\n",
    "ypred=model.predict(x2)\n",
    "mean_squared_error(y2,ypred)"
   ]
  },
  {
   "cell_type": "code",
   "execution_count": null,
   "id": "103e22de",
   "metadata": {},
   "outputs": [],
   "source": [
    "jbkj"
   ]
  },
  {
   "cell_type": "code",
   "execution_count": null,
   "id": "59b2a58a",
   "metadata": {},
   "outputs": [],
   "source": [
    "lin=LinearRegression()\n",
    "from lightgbm import LGBMRegressor\n",
    "lgb=LGBMRegressor()\n",
    "model=lgb.fit(xtrain,ytrain)\n",
    "preds=model.predict(xtest)\n"
   ]
  },
  {
   "cell_type": "code",
   "execution_count": null,
   "id": "86effebc",
   "metadata": {},
   "outputs": [],
   "source": [
    "sub=pd.DataFrame({\"Name\":test.Name,\"Price\":preds})\n",
    "sub.to_csv(\"c2.csv\",index=False)"
   ]
  }
 ],
 "metadata": {
  "kernelspec": {
   "display_name": "Python 3 (ipykernel)",
   "language": "python",
   "name": "python3"
  },
  "language_info": {
   "codemirror_mode": {
    "name": "ipython",
    "version": 3
   },
   "file_extension": ".py",
   "mimetype": "text/x-python",
   "name": "python",
   "nbconvert_exporter": "python",
   "pygments_lexer": "ipython3",
   "version": "3.9.7"
  }
 },
 "nbformat": 4,
 "nbformat_minor": 5
}
