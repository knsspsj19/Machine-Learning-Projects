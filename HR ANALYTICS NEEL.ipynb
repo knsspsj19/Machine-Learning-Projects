{
 "cells": [
  {
   "cell_type": "code",
   "execution_count": 1,
   "id": "5f5a7f7f",
   "metadata": {},
   "outputs": [],
   "source": [
    "import pandas as pd\n",
    "%matplotlib inline"
   ]
  },
  {
   "cell_type": "code",
   "execution_count": 2,
   "id": "1a4dd635",
   "metadata": {},
   "outputs": [],
   "source": [
    "import os\n",
    "os.chdir(\"G:\\data\")"
   ]
  },
  {
   "cell_type": "code",
   "execution_count": 3,
   "id": "1d14cfaf",
   "metadata": {},
   "outputs": [],
   "source": [
    "hrtrain=pd.read_csv(\"train_LZdllcl.csv\")"
   ]
  },
  {
   "cell_type": "code",
   "execution_count": 4,
   "id": "b74d5ed1",
   "metadata": {},
   "outputs": [],
   "source": [
    "hrtest=pd.read_csv(\"test_2umaH9m.csv\")"
   ]
  },
  {
   "cell_type": "code",
   "execution_count": 5,
   "id": "edea319e",
   "metadata": {},
   "outputs": [
    {
     "data": {
      "text/plain": [
       "((54808, 14), (23490, 13))"
      ]
     },
     "execution_count": 5,
     "metadata": {},
     "output_type": "execute_result"
    }
   ],
   "source": [
    "hrtrain.shape,hrtest.shape"
   ]
  },
  {
   "cell_type": "code",
   "execution_count": 6,
   "id": "6043fb74",
   "metadata": {},
   "outputs": [],
   "source": [
    "hr=pd.concat([hrtrain,hrtest],axis=0)"
   ]
  },
  {
   "cell_type": "code",
   "execution_count": 7,
   "id": "31cff880",
   "metadata": {},
   "outputs": [],
   "source": [
    "hr.head().columns\n",
    "d_r_r=pd.get_dummies(hr[[\"department\",\"recruitment_channel\",\"region\"]],drop_first=True)\n",
    "hr.head()\n",
    "def gen(i):\n",
    "    if i==\"m\":\n",
    "        return 1\n",
    "    elif i==\"f\":\n",
    "        return 0\n",
    "    \n"
   ]
  },
  {
   "cell_type": "code",
   "execution_count": 8,
   "id": "a5a1c90f",
   "metadata": {},
   "outputs": [],
   "source": [
    "\n",
    "hr[\"gender\"]=hr[\"gender\"].apply(gen)"
   ]
  },
  {
   "cell_type": "code",
   "execution_count": 9,
   "id": "9ece50cc",
   "metadata": {},
   "outputs": [
    {
     "data": {
      "text/plain": [
       "Index(['employee_id', 'department', 'region', 'education', 'gender',\n",
       "       'recruitment_channel', 'no_of_trainings', 'age', 'previous_year_rating',\n",
       "       'length_of_service', 'KPIs_met >80%', 'awards_won?',\n",
       "       'avg_training_score', 'is_promoted'],\n",
       "      dtype='object')"
      ]
     },
     "execution_count": 9,
     "metadata": {},
     "output_type": "execute_result"
    }
   ],
   "source": [
    "d_r_r\n",
    "hr.columns"
   ]
  },
  {
   "cell_type": "code",
   "execution_count": 10,
   "id": "29e7ea92",
   "metadata": {},
   "outputs": [],
   "source": [
    "ids=hrtest.iloc[:,0]\n",
    "ids\n",
    "hr.education.value_counts()\n",
    "def ed(i):\n",
    "    if i==\"Below Secondary\":\n",
    "        return 0\n",
    "    elif i==\"Bachelor's\":\n",
    "        return 1\n",
    "    elif i==\"Master's & above\":\n",
    "        return 2\n",
    "    \n",
    "hr[\"education\"]=hr[\"education\"].apply(ed)"
   ]
  },
  {
   "cell_type": "code",
   "execution_count": 11,
   "id": "bcfedad8",
   "metadata": {},
   "outputs": [],
   "source": [
    "hrf=pd.concat([hr.drop([\"employee_id\",\"department\",\"region\",\"recruitment_channel\"],axis=1),d_r_r],axis=1)"
   ]
  },
  {
   "cell_type": "code",
   "execution_count": 31,
   "id": "6819d5c8",
   "metadata": {},
   "outputs": [],
   "source": [
    "hrf.isnull().sum()\n",
    "hrf.loc[(hrf[\"is_promoted\"]==1)&(hrf[\"age\"]==20)&(hrf[\"education\"].isnull()),\"education\"]=0"
   ]
  },
  {
   "cell_type": "code",
   "execution_count": 62,
   "id": "f1f11b0f",
   "metadata": {},
   "outputs": [],
   "source": [
    "hrf.loc[(hrf[\"is_promoted\"]==1)&(hrf[\"age\"]<22)&(hrf[\"education\"].isnull()),\"education\"]=0"
   ]
  },
  {
   "cell_type": "code",
   "execution_count": 73,
   "id": "ffa14f18",
   "metadata": {},
   "outputs": [],
   "source": [
    "hrf.loc[(hrf[\"is_promoted\"]==1)&(hrf[\"age\"]<28)&(hrf[\"education\"].isnull()),\"education\"]=1"
   ]
  },
  {
   "cell_type": "code",
   "execution_count": 96,
   "id": "57db9a38",
   "metadata": {},
   "outputs": [],
   "source": [
    "hrf_tr=hrf.iloc[:54808,:]\n",
    "X=hrf_tr.drop(\"is_promoted\",axis=1)\n"
   ]
  },
  {
   "cell_type": "code",
   "execution_count": 97,
   "id": "c25c906d",
   "metadata": {},
   "outputs": [
    {
     "name": "stdout",
     "output_type": "stream",
     "text": [
      "Collecting imutilsNote: you may need to restart the kernel to use updated packages.\n",
      "  Downloading imutils-0.5.4.tar.gz (17 kB)\n",
      "Building wheels for collected packages: imutils\n",
      "  Building wheel for imutils (setup.py): started\n",
      "  Building wheel for imutils (setup.py): finished with status 'done'\n",
      "  Created wheel for imutils: filename=imutils-0.5.4-py3-none-any.whl size=25860 sha256=58fe4163169dc269a34b374a43f9a46cbda607fc7e5abe102bd93591a63244ed\n",
      "  Stored in directory: c:\\users\\hp\\appdata\\local\\pip\\cache\\wheels\\4b\\a5\\2d\\4a070a801d3a3d93f033d3ee9728f470f514826e89952df3ea\n",
      "Successfully built imutils\n",
      "Installing collected packages: imutils\n",
      "Successfully installed imutils-0.5.4\n",
      "\n"
     ]
    }
   ],
   "source": [
    "pip install imutils"
   ]
  },
  {
   "cell_type": "code",
   "execution_count": 98,
   "id": "d9cf3d6e",
   "metadata": {},
   "outputs": [
    {
     "name": "stderr",
     "output_type": "stream",
     "text": [
      "'git' is not recognized as an internal or external command,\n",
      "operable program or batch file.\n"
     ]
    }
   ],
   "source": [
    "!git clone https://github.com/analokmaus/kuma_utils.git\n",
    "import sys\n",
    "sys.path.append(\"kuma_utils/\")"
   ]
  },
  {
   "cell_type": "code",
   "execution_count": 99,
   "id": "d115f709",
   "metadata": {},
   "outputs": [
    {
     "ename": "ModuleNotFoundError",
     "evalue": "No module named 'kuma_utils'",
     "output_type": "error",
     "traceback": [
      "\u001b[1;31m---------------------------------------------------------------------------\u001b[0m",
      "\u001b[1;31mModuleNotFoundError\u001b[0m                       Traceback (most recent call last)",
      "\u001b[1;32m~\\AppData\\Local\\Temp/ipykernel_2004/689140558.py\u001b[0m in \u001b[0;36m<module>\u001b[1;34m\u001b[0m\n\u001b[0;32m      1\u001b[0m \u001b[1;31m#hrf.isnull().sum()\u001b[0m\u001b[1;33m\u001b[0m\u001b[1;33m\u001b[0m\u001b[0m\n\u001b[0;32m      2\u001b[0m \u001b[1;31m#hrf.loc[(hrf[\"is_promoted\"]==1)&(hrf[\"age\"]>=28)&(hrf[\"length_of_service\"]>=5)]  #[\"education\"].value_counts()\u001b[0m\u001b[1;33m\u001b[0m\u001b[1;33m\u001b[0m\u001b[0m\n\u001b[1;32m----> 3\u001b[1;33m \u001b[1;32mfrom\u001b[0m \u001b[0mkuma_utils\u001b[0m\u001b[1;33m.\u001b[0m\u001b[0mpreprocessing\u001b[0m\u001b[1;33m.\u001b[0m\u001b[0mimputer\u001b[0m \u001b[1;32mimport\u001b[0m \u001b[0mLGBMImputer\u001b[0m\u001b[1;33m\u001b[0m\u001b[1;33m\u001b[0m\u001b[0m\n\u001b[0m\u001b[0;32m      4\u001b[0m \u001b[0mlgb\u001b[0m\u001b[1;33m=\u001b[0m\u001b[0mLGBMImputer\u001b[0m\u001b[1;33m(\u001b[0m\u001b[0mn_iter\u001b[0m\u001b[1;33m=\u001b[0m\u001b[1;36m100\u001b[0m\u001b[1;33m,\u001b[0m\u001b[0mverbose\u001b[0m\u001b[1;33m=\u001b[0m\u001b[1;32mTrue\u001b[0m\u001b[1;33m)\u001b[0m\u001b[1;33m\u001b[0m\u001b[1;33m\u001b[0m\u001b[0m\n\u001b[0;32m      5\u001b[0m \u001b[0mX\u001b[0m\u001b[1;33m=\u001b[0m\u001b[0mlgb\u001b[0m\u001b[1;33m.\u001b[0m\u001b[0mfit_transform\u001b[0m\u001b[1;33m(\u001b[0m\u001b[0mX\u001b[0m\u001b[1;33m)\u001b[0m\u001b[1;33m\u001b[0m\u001b[1;33m\u001b[0m\u001b[0m\n",
      "\u001b[1;31mModuleNotFoundError\u001b[0m: No module named 'kuma_utils'"
     ]
    }
   ],
   "source": [
    "#hrf.isnull().sum()\n",
    "#hrf.loc[(hrf[\"is_promoted\"]==1)&(hrf[\"age\"]>=28)&(hrf[\"length_of_service\"]>=5)]  #[\"education\"].value_counts()\n",
    "from kuma_utils.preprocessing.imputer import LGBMImputer\n",
    "lgb=LGBMImputer(n_iter=100,verbose=True)\n",
    "X=lgb.fit_transform(X)"
   ]
  },
  {
   "cell_type": "code",
   "execution_count": null,
   "id": "24acfa6d",
   "metadata": {},
   "outputs": [],
   "source": [
    "hrf.isnull().sum()\n",
    "hrf.loc[(hrf[\"is_promoted\"]==1)&(hrf[\"age\"]>=37)&(hrf[\"education\"].isnull()),\"education\"]=2"
   ]
  },
  {
   "cell_type": "code",
   "execution_count": null,
   "id": "27d51653",
   "metadata": {},
   "outputs": [],
   "source": [
    "hrf[\"education\"]=hrf[\"education\"].fillna(1)"
   ]
  },
  {
   "cell_type": "code",
   "execution_count": null,
   "id": "72173eef",
   "metadata": {},
   "outputs": [],
   "source": [
    "hrf.loc[(hrf[\"is_promoted\"]==1)&(hrf[\"previous_year_rating\"].isnull()),\"previous_year_rating\"]=4"
   ]
  },
  {
   "cell_type": "code",
   "execution_count": null,
   "id": "519b6be3",
   "metadata": {},
   "outputs": [],
   "source": [
    "hrf[\"previous_year_rating\"]=hrf[\"previous_year_rating\"].fillna(3)"
   ]
  },
  {
   "cell_type": "code",
   "execution_count": null,
   "id": "df5afe56",
   "metadata": {},
   "outputs": [],
   "source": [
    "\n"
   ]
  },
  {
   "cell_type": "code",
   "execution_count": null,
   "id": "877d3c17",
   "metadata": {},
   "outputs": [],
   "source": [
    "hrf_tr=hrf.iloc[:54808,:]\n",
    "hrf_ts=hrf.iloc[54808:,:]\n",
    "hrf_tr.shape,hrf_ts.shape"
   ]
  },
  {
   "cell_type": "code",
   "execution_count": null,
   "id": "194b22b6",
   "metadata": {},
   "outputs": [],
   "source": [
    "X=hrf_tr.drop(\"is_promoted\",axis=1)\n",
    "y=hrf_tr[\"is_promoted\"]"
   ]
  },
  {
   "cell_type": "code",
   "execution_count": null,
   "id": "f103601c",
   "metadata": {},
   "outputs": [],
   "source": [
    "#from sklearn.linear_model import LogisticRegression\n",
    "#log=LogisticRegression()\n",
    "from xgboost import XGBClassifier\n",
    "xgb = XGBClassifier()\n",
    "from sklearn.model_selection import StratifiedKFold\n",
    "from sklearn.metrics import f1_score,classification_report\n",
    "f1=[]\n",
    "skf=StratifiedKFold(n_splits=5,random_state=None)\n",
    "skf.get_n_splits(X,y)\n",
    "for train_index,test_index in skf.split(X,y):\n",
    "    print(\"Train:\", train_index, \"Validation:\", test_index)\n",
    "    x1_train,x1_test=X.iloc[train_index],X.iloc[test_index]\n",
    "    y1_train,y1_test=y.iloc[train_index],y.iloc[test_index]\n",
    "    xgb.fit(x1_train,y1_train)\n",
    "    prediction=xgb.predict(x1_test)\n",
    "    score=f1_score(y1_test,prediction)\n",
    "    f1.append(score)\n",
    "\n",
    "print(f1)\n",
    "print(classification_report(y1_test,prediction))"
   ]
  },
  {
   "cell_type": "code",
   "execution_count": null,
   "id": "fe2759b3",
   "metadata": {},
   "outputs": [],
   "source": [
    "xt=hrf_ts.drop(\"is_promoted\",axis=1)\n",
    "from xgboost import XGBClassifier\n",
    "xgb = XGBClassifier()\n",
    "xgb.fit(X,y)\n",
    "pred1=xgb.predict(xt)"
   ]
  },
  {
   "cell_type": "code",
   "execution_count": null,
   "id": "bdc3cf31",
   "metadata": {},
   "outputs": [],
   "source": [
    "submission=pd.DataFrame({'employee_id':hrtest.employee_id,\n",
    "                        'is_promoted':pred1})\n",
    "\n",
    "submission.to_csv(\"HR1.csv\",index=False)"
   ]
  },
  {
   "cell_type": "code",
   "execution_count": null,
   "id": "6417b50d",
   "metadata": {},
   "outputs": [],
   "source": [
    "#import xgboost as xgb\n",
    "#pip install xgboost\n",
    "!pip install xgboost"
   ]
  },
  {
   "cell_type": "code",
   "execution_count": null,
   "id": "f56a02a9",
   "metadata": {},
   "outputs": [],
   "source": [
    "hrtest.shape[0]"
   ]
  },
  {
   "cell_type": "code",
   "execution_count": null,
   "id": "a01f5ddf",
   "metadata": {},
   "outputs": [],
   "source": [
    "hr=pd.concat([hrtrain,hrtest],axis=0)"
   ]
  },
  {
   "cell_type": "code",
   "execution_count": null,
   "id": "3f272285",
   "metadata": {},
   "outputs": [],
   "source": [
    "hr.head()\n",
    "hr.shape"
   ]
  },
  {
   "cell_type": "code",
   "execution_count": null,
   "id": "82adf1e4",
   "metadata": {},
   "outputs": [],
   "source": [
    "hr.isnull().sum()"
   ]
  },
  {
   "cell_type": "code",
   "execution_count": null,
   "id": "79d10fd4",
   "metadata": {},
   "outputs": [],
   "source": [
    "pd.crosstab(hr[\"employee_id\"],hr[\"education\"])\n",
    "hr.groupby(\"education\")[[\"employee_id\"]].mean()\n",
    "hr[[\"previous_year_rating\",\"employee_id\"]].corr()\n",
    "hr.drop(\"employee_id\",axis=1,inplace=True)"
   ]
  },
  {
   "cell_type": "code",
   "execution_count": null,
   "id": "c2d1096e",
   "metadata": {},
   "outputs": [],
   "source": [
    "import matplotlib.pyplot as plt\n",
    "#pd.crosstab(hr[\"department\"],hr[\"education\"]).plot(kind=\"bar\")\n",
    "# Sales and marketing has highest number of bachelor's"
   ]
  },
  {
   "cell_type": "code",
   "execution_count": null,
   "id": "5d7f147c",
   "metadata": {},
   "outputs": [],
   "source": [
    "plt.rcParams[\"figure.figsize\"]=[15, 8]\n",
    "#pd.crosstab(hr[\"region\"],hr[\"education\"]).plot(kind=\"bar\")\n",
    "#Region 2,22,7 have highest number of bachelor's and master's"
   ]
  },
  {
   "cell_type": "code",
   "execution_count": null,
   "id": "063d2a41",
   "metadata": {},
   "outputs": [],
   "source": [
    "#pd.crosstab(hr[\"gender\"],hr[\"education\"]).plot(kind=\"bar\")\n",
    "# Most of the Bachelor's and Master's are males"
   ]
  },
  {
   "cell_type": "code",
   "execution_count": null,
   "id": "4de27f29",
   "metadata": {},
   "outputs": [],
   "source": [
    "#pd.crosstab(hr[\"recruitment_channel\"],hr[\"education\"]).plot(kind=\"bar\")\n",
    "#Most bachelor's and master's were recruited through channels other than referals."
   ]
  },
  {
   "cell_type": "code",
   "execution_count": null,
   "id": "9426f3e0",
   "metadata": {},
   "outputs": [],
   "source": [
    "#pd.crosstab(hr[\"no_of_trainings\"],hr[\"education\"]).plot(kind=\"bar\")\n",
    "hr.no_of_trainings.value_counts()\n",
    "#Most of the people required upto 3 trainings."
   ]
  },
  {
   "cell_type": "code",
   "execution_count": null,
   "id": "e02dc10c",
   "metadata": {},
   "outputs": [],
   "source": [
    "#hr.groupby(\"education\")[[\"age\"]].mean().plot(kind=\"bar\")\n",
    "#People with Master's and above degrees have highest mean age."
   ]
  },
  {
   "cell_type": "code",
   "execution_count": null,
   "id": "c0ba97fb",
   "metadata": {},
   "outputs": [],
   "source": [
    "#pd.crosstab(hr[\"previous_year_rating\"],hr[\"education\"]).plot(kind=\"bar\")\n",
    "#Most bachelor's and masters have atleast 3 previous year ratigs"
   ]
  },
  {
   "cell_type": "code",
   "execution_count": null,
   "id": "30566ab6",
   "metadata": {},
   "outputs": [],
   "source": [
    "#hr.groupby(\"education\")[[\"length_of_service\"]].mean().plot(kind=\"bar\")\n",
    "#bachelor's and masters have highest length of service"
   ]
  },
  {
   "cell_type": "code",
   "execution_count": null,
   "id": "08475e65",
   "metadata": {},
   "outputs": [],
   "source": [
    "#pd.crosstab(hr[\"KPIs_met >80%\"],hr[\"education\"]).plot(kind=\"bar\")\n",
    "#Few people met KPIs"
   ]
  },
  {
   "cell_type": "code",
   "execution_count": null,
   "id": "ba5bb28a",
   "metadata": {},
   "outputs": [],
   "source": [
    "#pd.crosstab(hr[\"awards_won?\"],hr[\"education\"]).plot(kind=\"bar\")\n",
    "#Most people didnt win award"
   ]
  },
  {
   "cell_type": "code",
   "execution_count": null,
   "id": "7ef92971",
   "metadata": {},
   "outputs": [],
   "source": [
    "#hr.groupby(\"education\")[[\"avg_training_score\"]].mean().plot(kind=\"bar\")\n",
    "#No trend seen"
   ]
  },
  {
   "cell_type": "code",
   "execution_count": null,
   "id": "3144acdb",
   "metadata": {},
   "outputs": [],
   "source": [
    "#pd.crosstab(hr[\"is_promoted\"],hr[\"education\"]).plot(kind=\"bar\")\n",
    "#Few got promoted"
   ]
  },
  {
   "cell_type": "code",
   "execution_count": null,
   "id": "70d61f5c",
   "metadata": {},
   "outputs": [],
   "source": [
    "hr.isnull().sum()"
   ]
  },
  {
   "cell_type": "code",
   "execution_count": null,
   "id": "f417962b",
   "metadata": {},
   "outputs": [],
   "source": [
    "#hr.loc[(hr[\"is_promoted\"]==1)&(hr[\"awards_won?\"]==1)&(hr[\"KPIs_met >80%\"]==1)&(hr[\"previous_year_rating\"].isnull())][[\"previous_year_rating\"]].fillna(5,inplace=True)\n",
    "    \n",
    "\n",
    "\n",
    "\n",
    "    "
   ]
  },
  {
   "cell_type": "code",
   "execution_count": null,
   "id": "448e5906",
   "metadata": {},
   "outputs": [],
   "source": []
  },
  {
   "cell_type": "code",
   "execution_count": null,
   "id": "0e6d975c",
   "metadata": {},
   "outputs": [],
   "source": [
    "#pd.crosstab(hr[\"previous_year_rating\"],hr[\"no_of_trainings\"]).plot(kind=\"bar\")\n",
    "import numpy as np\n",
    "hr.loc[(hr[\"previous_year_rating\"]==5)][\"avg_training_score\"].mean()\n"
   ]
  },
  {
   "cell_type": "code",
   "execution_count": null,
   "id": "7debc8df",
   "metadata": {},
   "outputs": [],
   "source": [
    "hr.education.value_counts()"
   ]
  },
  {
   "cell_type": "code",
   "execution_count": null,
   "id": "96f32d8f",
   "metadata": {},
   "outputs": [],
   "source": [
    "hr.previous_year_rating.value_counts()"
   ]
  },
  {
   "cell_type": "code",
   "execution_count": null,
   "id": "ca35b3c6",
   "metadata": {},
   "outputs": [],
   "source": [
    "\n",
    "\n"
   ]
  },
  {
   "cell_type": "code",
   "execution_count": null,
   "id": "1ba7a117",
   "metadata": {},
   "outputs": [],
   "source": [
    "hr.isnull().sum()"
   ]
  },
  {
   "cell_type": "code",
   "execution_count": null,
   "id": "e9a85ad9",
   "metadata": {},
   "outputs": [],
   "source": [
    "hr[\"education\"].fillna(\"Bachelor's\", inplace=True)"
   ]
  },
  {
   "cell_type": "code",
   "execution_count": null,
   "id": "10e45af1",
   "metadata": {},
   "outputs": [],
   "source": [
    "hr[\"education\"].isnull().sum()"
   ]
  },
  {
   "cell_type": "code",
   "execution_count": null,
   "id": "d39db8b0",
   "metadata": {},
   "outputs": [],
   "source": [
    "hr.iloc[:,:]"
   ]
  },
  {
   "cell_type": "code",
   "execution_count": null,
   "id": "31967a6b",
   "metadata": {},
   "outputs": [],
   "source": [
    "hr[\"previous_year_rating\"].value_counts()\n",
    "hr.columns"
   ]
  },
  {
   "cell_type": "code",
   "execution_count": null,
   "id": "4e2eb21c",
   "metadata": {},
   "outputs": [],
   "source": [
    "cat=['department','region','education','gender','recruitment_channel','no_of_trainings','KPIs_met >80%','awards_won?']\n",
    "num=['age','length_of_service','avg_training_score']\n",
    "columns=['department', 'region', 'education', 'gender', 'recruitment_channel',\n",
    "       'no_of_trainings', 'age', 'length_of_service',\n",
    "       'KPIs_met >80%', 'awards_won?', 'avg_training_score']"
   ]
  },
  {
   "cell_type": "code",
   "execution_count": null,
   "id": "abced216",
   "metadata": {},
   "outputs": [],
   "source": [
    "#plt.rcParams[\"figure.figsize\"]=[15,8]\n",
    "#for i in cat:\n",
    "    #pd.crosstab(hr[\"previous_year_rating\"],hr[i]).plot(kind=\"bar\")\n",
    "# Strong likelihood that if person belongs to operations,procurement or tech dept then his rating is atleast 3.\n",
    "# People from region 7 have rating 3 or more."
   ]
  },
  {
   "cell_type": "code",
   "execution_count": null,
   "id": "8c96d007",
   "metadata": {},
   "outputs": [],
   "source": [
    "#for j in num:\n",
    "   # hr.groupby(\"previous_year_rating\")[[j]].mean().plot(kind=\"bar\")"
   ]
  },
  {
   "cell_type": "code",
   "execution_count": null,
   "id": "3c69b278",
   "metadata": {},
   "outputs": [],
   "source": [
    "hr[\"previous_year_rating\"].fillna(4.0,inplace=True)"
   ]
  },
  {
   "cell_type": "code",
   "execution_count": null,
   "id": "1238de25",
   "metadata": {},
   "outputs": [],
   "source": [
    "hr[\"is_promoted\"].value_counts()"
   ]
  },
  {
   "cell_type": "code",
   "execution_count": null,
   "id": "ab29c2d8",
   "metadata": {},
   "outputs": [],
   "source": [
    "hr.isnull().sum()"
   ]
  },
  {
   "cell_type": "code",
   "execution_count": null,
   "id": "558030f4",
   "metadata": {},
   "outputs": [],
   "source": [
    "hr.head()"
   ]
  },
  {
   "cell_type": "code",
   "execution_count": null,
   "id": "4d31380a",
   "metadata": {},
   "outputs": [],
   "source": []
  },
  {
   "cell_type": "code",
   "execution_count": null,
   "id": "461b79c0",
   "metadata": {},
   "outputs": [],
   "source": [
    "hr[['age', 'length_of_service', 'avg_training_score']]"
   ]
  },
  {
   "cell_type": "code",
   "execution_count": null,
   "id": "3aaa69f1",
   "metadata": {},
   "outputs": [],
   "source": [
    "cat\n",
    "hr.head()"
   ]
  },
  {
   "cell_type": "code",
   "execution_count": null,
   "id": "a7f3babd",
   "metadata": {},
   "outputs": [],
   "source": [
    "corecat=['department','region','education','gender','recruitment_channel']\n",
    "print((hr.loc[(hr[\"gender\"]==\"f\")&(hr[\"is_promoted\"]==1)].shape[0])/hr.loc[hr[\"gender\"]==\"f\"].shape[0])\n",
    "(hr.loc[(hr[\"gender\"]==\"m\")&(hr[\"is_promoted\"]==1)].shape[0])/hr.loc[hr[\"gender\"]==\"m\"].shape[0]\n",
    "# So we will give more weight to women as they have better chance of promotion\n",
    "    \n",
    "\n"
   ]
  },
  {
   "cell_type": "code",
   "execution_count": null,
   "id": "76b53b98",
   "metadata": {},
   "outputs": [],
   "source": [
    "print((hr.loc[(hr[\"education\"]==\"Bachelor's\")&(hr[\"is_promoted\"]==1)].shape[0])/hr.loc[hr[\"education\"]==\"Bachelor's\"].shape[0])\n",
    "print((hr.loc[(hr[\"education\"]==\"Master's & above\")&(hr[\"is_promoted\"]==1)].shape[0])/hr.loc[hr[\"education\"]==\"Master's & above\"].shape[0])\n",
    "print((hr.loc[(hr[\"education\"]==\"Below Secondary\")&(hr[\"is_promoted\"]==1)].shape[0])/hr.loc[hr[\"education\"]==\"Below Secondary\"].shape[0])\n",
    "# We see that Masters and above have higher chances of promotion than the rest."
   ]
  },
  {
   "cell_type": "code",
   "execution_count": null,
   "id": "705bff80",
   "metadata": {},
   "outputs": [],
   "source": [
    "print((hr.loc[(hr[\"recruitment_channel\"]==\"other\")&(hr[\"is_promoted\"]==1)].shape[0])/hr.loc[hr[\"recruitment_channel\"]==\"other\"].shape[0])\n",
    "print((hr.loc[(hr[\"recruitment_channel\"]==\"sourcing\")&(hr[\"is_promoted\"]==1)].shape[0])/hr.loc[hr[\"recruitment_channel\"]==\"sourcing\"].shape[0])\n",
    "print((hr.loc[(hr[\"recruitment_channel\"]==\"referred\")&(hr[\"is_promoted\"]==1)].shape[0])/hr.loc[hr[\"recruitment_channel\"]==\"referred\"].shape[0])\n",
    "#Refered>sourcing>other weights in promotion"
   ]
  },
  {
   "cell_type": "code",
   "execution_count": null,
   "id": "d02a8221",
   "metadata": {},
   "outputs": [],
   "source": [
    "hr[\"region\"].value_counts().index\n",
    "reg=['region_2', 'region_22', 'region_7', 'region_15', 'region_13',\n",
    "       'region_26', 'region_31', 'region_4', 'region_27', 'region_16',\n",
    "       'region_28', 'region_11', 'region_23', 'region_29', 'region_32',\n",
    "       'region_19', 'region_14', 'region_20', 'region_17', 'region_25',\n",
    "       'region_5', 'region_6', 'region_30', 'region_8', 'region_10',\n",
    "       'region_1', 'region_24', 'region_12', 'region_9', 'region_21',\n",
    "       'region_3', 'region_34', 'region_33', 'region_18']"
   ]
  },
  {
   "cell_type": "code",
   "execution_count": null,
   "id": "1b84e348",
   "metadata": {},
   "outputs": [],
   "source": [
    "dic={}\n",
    "for i in reg:\n",
    "    dic.update({i:(round((hr.loc[(hr[\"region\"]==i)&(hr[\"is_promoted\"]==1)].shape[0])/hr.loc[hr[\"region\"]==i].shape[0],3))})\n",
    "print(dic)\n",
    "hr[\"region\"]=hr[\"region\"].map(dic)\n",
    "    "
   ]
  },
  {
   "cell_type": "code",
   "execution_count": null,
   "id": "d58762f3",
   "metadata": {},
   "outputs": [],
   "source": [
    "hr[\"region\"].value_counts()\n",
    "    \n",
    "\n",
    "        \n",
    "\n",
    "        "
   ]
  },
  {
   "cell_type": "code",
   "execution_count": null,
   "id": "1a285078",
   "metadata": {},
   "outputs": [],
   "source": [
    "hr.isnull().sum()"
   ]
  },
  {
   "cell_type": "code",
   "execution_count": null,
   "id": "e4304f3d",
   "metadata": {},
   "outputs": [],
   "source": [
    "hr.insert(loc = 0,column = 'new_ftr',value = hr[\"KPIs_met >80%\"]+hr[\"awards_won?\"])"
   ]
  },
  {
   "cell_type": "code",
   "execution_count": null,
   "id": "81ec2498",
   "metadata": {},
   "outputs": [],
   "source": [
    "hr[\"new_ftr\"].fillna(0,inplace=True)"
   ]
  },
  {
   "cell_type": "code",
   "execution_count": null,
   "id": "54777e7c",
   "metadata": {},
   "outputs": [],
   "source": [
    "hr.columns\n",
    "hr.drop([\"KPIs_met >80%\",\"awards_won?\"],axis=1,inplace=True)"
   ]
  },
  {
   "cell_type": "code",
   "execution_count": null,
   "id": "f4ec6284",
   "metadata": {},
   "outputs": [],
   "source": [
    "hr[\"department\"].value_counts().index\n",
    "dept=['Sales & Marketing', 'Operations', 'Procurement', 'Technology',\n",
    "       'Analytics', 'Finance', 'HR', 'Legal', 'R&D']"
   ]
  },
  {
   "cell_type": "code",
   "execution_count": null,
   "id": "7b5cfe8a",
   "metadata": {},
   "outputs": [],
   "source": [
    "dics={}\n",
    "for i in dept:\n",
    "    dics.update({i:round((hr.loc[(hr[\"department\"]==i)&(hr[\"is_promoted\"]==1)].shape[0])/hr.loc[hr[\"department\"]==i].shape[0],3)})\n",
    "hr[\"department\"]=hr[\"department\"].map(dics)\n",
    "\n",
    "    "
   ]
  },
  {
   "cell_type": "code",
   "execution_count": null,
   "id": "b151c9a5",
   "metadata": {},
   "outputs": [],
   "source": [
    "hr[\"department\"]  \n",
    "\n",
    "        "
   ]
  },
  {
   "cell_type": "code",
   "execution_count": null,
   "id": "632b179b",
   "metadata": {},
   "outputs": [],
   "source": [
    "hr.education.value_counts()"
   ]
  },
  {
   "cell_type": "code",
   "execution_count": null,
   "id": "8e4b3662",
   "metadata": {},
   "outputs": [],
   "source": [
    "hr[\"gender\"].replace({\"f\":2,\"m\":1},inplace=True)"
   ]
  },
  {
   "cell_type": "code",
   "execution_count": null,
   "id": "9c49e887",
   "metadata": {},
   "outputs": [],
   "source": [
    "def edu(i):\n",
    "    if i==\"Master's & above\":\n",
    "        return 2\n",
    "    else:\n",
    "        return 1\n",
    "hr[\"education\"]=hr[\"education\"].apply(edu)"
   ]
  },
  {
   "cell_type": "code",
   "execution_count": null,
   "id": "6fb182e1",
   "metadata": {},
   "outputs": [],
   "source": [
    "hr[\"recruitment_channel\"].value_counts()\n",
    "def rec(i):\n",
    "    if i==\"other\":\n",
    "        return 1\n",
    "    elif i==\"sourcing\":\n",
    "        return 2\n",
    "    else:\n",
    "        return 3\n",
    "    \n",
    "hr[\"recruitment_channel\"]=hr[\"recruitment_channel\"].apply(rec)\n",
    "    "
   ]
  },
  {
   "cell_type": "code",
   "execution_count": null,
   "id": "6b5e564a",
   "metadata": {},
   "outputs": [],
   "source": [
    "hr.head()"
   ]
  },
  {
   "cell_type": "code",
   "execution_count": null,
   "id": "303e5170",
   "metadata": {},
   "outputs": [],
   "source": [
    "from sklearn.preprocessing import StandardScaler\n",
    "scaler=StandardScaler()\n",
    "hr[\"age\"]=scaler.fit_transform(hr[[\"age\"]])\n",
    "hr[\"length_of_service\"]=scaler.fit_transform(hr[[\"length_of_service\"]])\n",
    "hr[\"avg_training_score\"]=scaler.fit_transform(hr[[\"avg_training_score\"]])\n",
    "hr[\"previous_year_rating\"]=scaler.fit_transform(hr[[\"previous_year_rating\"]])"
   ]
  },
  {
   "cell_type": "code",
   "execution_count": null,
   "id": "81f570b5",
   "metadata": {},
   "outputs": [],
   "source": [
    "hr.head()"
   ]
  },
  {
   "cell_type": "code",
   "execution_count": null,
   "id": "1c8fdc71",
   "metadata": {},
   "outputs": [],
   "source": [
    "hr[\"is_promoted\"].fillna(0,inplace=True)"
   ]
  },
  {
   "cell_type": "code",
   "execution_count": null,
   "id": "38a99b5f",
   "metadata": {},
   "outputs": [],
   "source": [
    "hr.isnull().sum()\n",
    "hr.is_promoted.value_counts()"
   ]
  },
  {
   "cell_type": "code",
   "execution_count": null,
   "id": "6e0630e2",
   "metadata": {},
   "outputs": [],
   "source": []
  },
  {
   "cell_type": "code",
   "execution_count": null,
   "id": "77932af1",
   "metadata": {},
   "outputs": [],
   "source": []
  },
  {
   "cell_type": "code",
   "execution_count": null,
   "id": "5dc4e115",
   "metadata": {},
   "outputs": [],
   "source": [
    "hr.isnull().sum()"
   ]
  },
  {
   "cell_type": "code",
   "execution_count": null,
   "id": "8c48b099",
   "metadata": {},
   "outputs": [],
   "source": [
    "hr[\"is_promoted\"]=hr[\"is_promoted\"].astype(int)"
   ]
  },
  {
   "cell_type": "code",
   "execution_count": null,
   "id": "dbd4662d",
   "metadata": {},
   "outputs": [],
   "source": [
    "hr.info()"
   ]
  },
  {
   "cell_type": "code",
   "execution_count": null,
   "id": "8a6f90ea",
   "metadata": {},
   "outputs": [],
   "source": [
    "\n",
    "x=hr.iloc[:,:-1]\n",
    "y=hr.iloc[:,-1]"
   ]
  },
  {
   "cell_type": "code",
   "execution_count": null,
   "id": "62d13cce",
   "metadata": {},
   "outputs": [],
   "source": [
    "pd.DataFrame(y)"
   ]
  },
  {
   "cell_type": "code",
   "execution_count": null,
   "id": "611a2b22",
   "metadata": {},
   "outputs": [],
   "source": [
    "hr.isnull().sum()"
   ]
  },
  {
   "cell_type": "code",
   "execution_count": null,
   "id": "f77db763",
   "metadata": {},
   "outputs": [],
   "source": [
    "from sklearn.model_selection import train_test_split\n",
    "xtrain, xtest, ytrain, ytest=train_test_split(x, y, test_size=0.3)\n",
    "\n"
   ]
  },
  {
   "cell_type": "code",
   "execution_count": null,
   "id": "aa4b95b1",
   "metadata": {},
   "outputs": [],
   "source": [
    "xtest.shape[0]"
   ]
  },
  {
   "cell_type": "code",
   "execution_count": null,
   "id": "4a78e422",
   "metadata": {},
   "outputs": [],
   "source": [
    "ytest.isnull().sum()"
   ]
  },
  {
   "cell_type": "code",
   "execution_count": null,
   "id": "3ed9ac2e",
   "metadata": {},
   "outputs": [],
   "source": [
    "from lightgbm import LGBMClassifier\n",
    "lgb=LGBMClassifier()"
   ]
  },
  {
   "cell_type": "code",
   "execution_count": null,
   "id": "0458e1be",
   "metadata": {},
   "outputs": [],
   "source": [
    "lgb.fit(xtrain,ytrain)"
   ]
  },
  {
   "cell_type": "code",
   "execution_count": null,
   "id": "e029ffb5",
   "metadata": {},
   "outputs": [],
   "source": [
    "pred_y=lgb.predict(xtest)"
   ]
  },
  {
   "cell_type": "code",
   "execution_count": null,
   "id": "86956669",
   "metadata": {},
   "outputs": [],
   "source": [
    "from sklearn.metrics import f1_score\n",
    "f1_score(ytest, pred_y)"
   ]
  },
  {
   "cell_type": "code",
   "execution_count": null,
   "id": "bb33058c",
   "metadata": {},
   "outputs": [],
   "source": [
    "from pandas import DataFrame,Series\n",
    "z=pd.concat([ids,pd.DataFrame(pred_y)],axis=1)\n",
    "z.columns=[\"employee_id\",\"is_promoted\"]\n",
    "z.to_csv(\"AV1.csv\",index=False)\n",
    "\n",
    "\n",
    "\n"
   ]
  },
  {
   "cell_type": "code",
   "execution_count": null,
   "id": "9dd4bdb7",
   "metadata": {},
   "outputs": [],
   "source": [
    "#prediction1 = pd.DataFrame([hrtest.iloc[:,[0]],pred_y], columns=['emp_id','predictions']).to_csv('prediction.csv')"
   ]
  },
  {
   "cell_type": "markdown",
   "id": "b44655cb",
   "metadata": {},
   "source": [
    "from sklearn.svm import LinearSVC\n",
    "from sklearn.datasets import make_classification\n",
    "from sklearn.model_selection import train_test_split\n",
    "from sklearn.model_selection import cross_val_score\n",
    "from sklearn.metrics import confusion_matrix\n",
    "from sklearn.metrics import classification_report\n",
    "\n",
    "x, y = make_classification(n_samples=78298, n_features=12, \n",
    "                           n_classes=2, \n",
    "                           n_clusters_per_class=1)\n",
    "\n",
    "xtrain, xtest, ytrain, ytest=train_test_split(x, y, test_size=0.15)\n",
    "\n",
    "lsvc = LinearSVC()\n",
    "print(lsvc)\n",
    "\n",
    "lsvc.fit(xtrain, ytrain)\n",
    "score = lsvc.score(xtrain, ytrain)\n",
    "print(\"Score: \", score)\n",
    "\n",
    "cv_scores = cross_val_score(lsvc, xtrain, ytrain, cv=10)\n",
    "print(\"CV average score: %.2f\" % cv_scores.mean())\n",
    "\n",
    "ypred = lsvc.predict(xtest)\n",
    "\n",
    "cm = confusion_matrix(ytest, ypred)\n",
    "print(cm)\n",
    "\n",
    "cr = classification_report(ytest, ypred)\n",
    "print(cr) \n",
    "\n",
    "\n",
    "\n"
   ]
  }
 ],
 "metadata": {
  "kernelspec": {
   "display_name": "Python 3 (ipykernel)",
   "language": "python",
   "name": "python3"
  },
  "language_info": {
   "codemirror_mode": {
    "name": "ipython",
    "version": 3
   },
   "file_extension": ".py",
   "mimetype": "text/x-python",
   "name": "python",
   "nbconvert_exporter": "python",
   "pygments_lexer": "ipython3",
   "version": "3.9.7"
  }
 },
 "nbformat": 4,
 "nbformat_minor": 5
}
