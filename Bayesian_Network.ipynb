{
 "cells": [
  {
   "cell_type": "markdown",
   "id": "5ee7d144",
   "metadata": {},
   "source": [
    "# Question.2.\n",
    "\n",
    "1. Create the following table using the sample dataset provided, programmatically. Clean the\n",
    "dataset if needed.\n",
    "2. Whether any inference could be reasoned out from the dataset.\n",
    "3. Use any machine learning algorithm(s) to predict the Feedback. Reason out your choices. (Don't\n",
    "worry too much about the accuracy). (Please specify the criteria for selection of machine learning\n",
    "algorithm for solving the problem)"
   ]
  },
  {
   "cell_type": "raw",
   "id": "eb184471",
   "metadata": {},
   "source": [
    "1. Create the following table using the sample dataset provided, programmatically. Clean the\n",
    "dataset if needed."
   ]
  },
  {
   "cell_type": "code",
   "execution_count": 2,
   "id": "d4b3eeb0",
   "metadata": {},
   "outputs": [],
   "source": [
    "import warnings\n",
    "warnings.filterwarnings(\"ignore\")\n",
    "import pandas as pd\n",
    "import numpy as np\n",
    "df=pd.read_csv(\"SampleData.xlsx - SampleData1.csv\")\n",
    "df2=pd.read_csv(\"SampleData.xlsx - SampleData2.csv\")"
   ]
  },
  {
   "cell_type": "code",
   "execution_count": 3,
   "id": "a59506a5",
   "metadata": {},
   "outputs": [],
   "source": [
    "df.shape,df2.shape\n",
    "df2=df2.drop(\"Unnamed: 0\",axis=1)"
   ]
  },
  {
   "cell_type": "code",
   "execution_count": 4,
   "id": "1ade6742",
   "metadata": {},
   "outputs": [
    {
     "data": {
      "text/plain": [
       "((64, 8), (99, 2))"
      ]
     },
     "execution_count": 4,
     "metadata": {},
     "output_type": "execute_result"
    }
   ],
   "source": [
    "df.shape,df2.shape"
   ]
  },
  {
   "cell_type": "code",
   "execution_count": 5,
   "id": "49d17289",
   "metadata": {},
   "outputs": [],
   "source": [
    "df=pd.merge(df,df2,how=\"left\",on=\"Id\").drop(\"Unnamed: 0\",axis=1)"
   ]
  },
  {
   "cell_type": "code",
   "execution_count": 6,
   "id": "a28ac576",
   "metadata": {},
   "outputs": [
    {
     "data": {
      "text/html": [
       "<div>\n",
       "<style scoped>\n",
       "    .dataframe tbody tr th:only-of-type {\n",
       "        vertical-align: middle;\n",
       "    }\n",
       "\n",
       "    .dataframe tbody tr th {\n",
       "        vertical-align: top;\n",
       "    }\n",
       "\n",
       "    .dataframe thead th {\n",
       "        text-align: right;\n",
       "    }\n",
       "</style>\n",
       "<table border=\"1\" class=\"dataframe\">\n",
       "  <thead>\n",
       "    <tr style=\"text-align: right;\">\n",
       "      <th>User</th>\n",
       "      <th>A1001</th>\n",
       "      <th>A1002</th>\n",
       "      <th>A1003</th>\n",
       "      <th>A1004</th>\n",
       "      <th>A1005</th>\n",
       "      <th>Total</th>\n",
       "    </tr>\n",
       "    <tr>\n",
       "      <th>Type</th>\n",
       "      <th></th>\n",
       "      <th></th>\n",
       "      <th></th>\n",
       "      <th></th>\n",
       "      <th></th>\n",
       "      <th></th>\n",
       "    </tr>\n",
       "  </thead>\n",
       "  <tbody>\n",
       "    <tr>\n",
       "      <th>Call</th>\n",
       "      <td>3</td>\n",
       "      <td>0</td>\n",
       "      <td>1</td>\n",
       "      <td>3</td>\n",
       "      <td>0</td>\n",
       "      <td>7</td>\n",
       "    </tr>\n",
       "    <tr>\n",
       "      <th>Email</th>\n",
       "      <td>3</td>\n",
       "      <td>10</td>\n",
       "      <td>2</td>\n",
       "      <td>1</td>\n",
       "      <td>3</td>\n",
       "      <td>19</td>\n",
       "    </tr>\n",
       "    <tr>\n",
       "      <th>Update</th>\n",
       "      <td>11</td>\n",
       "      <td>3</td>\n",
       "      <td>19</td>\n",
       "      <td>4</td>\n",
       "      <td>0</td>\n",
       "      <td>37</td>\n",
       "    </tr>\n",
       "    <tr>\n",
       "      <th>Visit</th>\n",
       "      <td>1</td>\n",
       "      <td>0</td>\n",
       "      <td>0</td>\n",
       "      <td>0</td>\n",
       "      <td>0</td>\n",
       "      <td>1</td>\n",
       "    </tr>\n",
       "  </tbody>\n",
       "</table>\n",
       "</div>"
      ],
      "text/plain": [
       "User    A1001  A1002  A1003  A1004  A1005  Total\n",
       "Type                                            \n",
       "Call        3      0      1      3      0      7\n",
       "Email       3     10      2      1      3     19\n",
       "Update     11      3     19      4      0     37\n",
       "Visit       1      0      0      0      0      1"
      ]
     },
     "execution_count": 6,
     "metadata": {},
     "output_type": "execute_result"
    }
   ],
   "source": [
    "tb1=pd.crosstab(df[\"Type\"],df[\"User\"])\n",
    "tb1[\"Total\"]=tb1.sum(axis=1)\n",
    "tb1"
   ]
  },
  {
   "cell_type": "code",
   "execution_count": 7,
   "id": "b0afa862",
   "metadata": {},
   "outputs": [
    {
     "data": {
      "text/html": [
       "<div>\n",
       "<style scoped>\n",
       "    .dataframe tbody tr th:only-of-type {\n",
       "        vertical-align: middle;\n",
       "    }\n",
       "\n",
       "    .dataframe tbody tr th {\n",
       "        vertical-align: top;\n",
       "    }\n",
       "\n",
       "    .dataframe thead th {\n",
       "        text-align: right;\n",
       "    }\n",
       "</style>\n",
       "<table border=\"1\" class=\"dataframe\">\n",
       "  <thead>\n",
       "    <tr style=\"text-align: right;\">\n",
       "      <th></th>\n",
       "      <th>Id</th>\n",
       "      <th>Type</th>\n",
       "      <th>Date</th>\n",
       "      <th>CountA</th>\n",
       "      <th>CountB</th>\n",
       "      <th>CountC</th>\n",
       "      <th>FeedBack</th>\n",
       "      <th>User</th>\n",
       "    </tr>\n",
       "  </thead>\n",
       "  <tbody>\n",
       "    <tr>\n",
       "      <th>0</th>\n",
       "      <td>10121</td>\n",
       "      <td>Email</td>\n",
       "      <td>8/4/16 10:16</td>\n",
       "      <td>0.782742</td>\n",
       "      <td>0.510799</td>\n",
       "      <td>0.452150</td>\n",
       "      <td>Others</td>\n",
       "      <td>A1005</td>\n",
       "    </tr>\n",
       "    <tr>\n",
       "      <th>1</th>\n",
       "      <td>10122</td>\n",
       "      <td>Email</td>\n",
       "      <td>8/4/16 10:18</td>\n",
       "      <td>0.229017</td>\n",
       "      <td>0.300863</td>\n",
       "      <td>0.102294</td>\n",
       "      <td>Others</td>\n",
       "      <td>A1002</td>\n",
       "    </tr>\n",
       "    <tr>\n",
       "      <th>2</th>\n",
       "      <td>10123</td>\n",
       "      <td>Email</td>\n",
       "      <td>8/4/16 10:30</td>\n",
       "      <td>0.954765</td>\n",
       "      <td>0.432080</td>\n",
       "      <td>0.531254</td>\n",
       "      <td>Others</td>\n",
       "      <td>A1002</td>\n",
       "    </tr>\n",
       "    <tr>\n",
       "      <th>3</th>\n",
       "      <td>10124</td>\n",
       "      <td>Email</td>\n",
       "      <td>8/4/16 10:41</td>\n",
       "      <td>0.044002</td>\n",
       "      <td>0.989621</td>\n",
       "      <td>0.420642</td>\n",
       "      <td>Others</td>\n",
       "      <td>A1002</td>\n",
       "    </tr>\n",
       "    <tr>\n",
       "      <th>4</th>\n",
       "      <td>10125</td>\n",
       "      <td>Email</td>\n",
       "      <td>8/4/16 10:59</td>\n",
       "      <td>0.902472</td>\n",
       "      <td>0.304069</td>\n",
       "      <td>0.201665</td>\n",
       "      <td>Others</td>\n",
       "      <td>A1002</td>\n",
       "    </tr>\n",
       "  </tbody>\n",
       "</table>\n",
       "</div>"
      ],
      "text/plain": [
       "      Id   Type          Date    CountA    CountB    CountC FeedBack   User\n",
       "0  10121  Email  8/4/16 10:16  0.782742  0.510799  0.452150   Others  A1005\n",
       "1  10122  Email  8/4/16 10:18  0.229017  0.300863  0.102294   Others  A1002\n",
       "2  10123  Email  8/4/16 10:30  0.954765  0.432080  0.531254   Others  A1002\n",
       "3  10124  Email  8/4/16 10:41  0.044002  0.989621  0.420642   Others  A1002\n",
       "4  10125  Email  8/4/16 10:59  0.902472  0.304069  0.201665   Others  A1002"
      ]
     },
     "execution_count": 7,
     "metadata": {},
     "output_type": "execute_result"
    }
   ],
   "source": [
    "df.head()"
   ]
  },
  {
   "cell_type": "code",
   "execution_count": 8,
   "id": "612e6a0e",
   "metadata": {},
   "outputs": [
    {
     "data": {
      "text/plain": [
       "Others        29\n",
       "NC            15\n",
       "nc            13\n",
       "UNDECIDED      2\n",
       "Undecided      2\n",
       "NI             1\n",
       "undecided      1\n",
       "undecided      1\n",
       "Name: FeedBack, dtype: int64"
      ]
     },
     "execution_count": 8,
     "metadata": {},
     "output_type": "execute_result"
    }
   ],
   "source": [
    "#1. Create the following table using the sample dataset provided, programmatically. Clean the dataset if needed.\n",
    "\n",
    "#Data set cleaning\n",
    "df.shape\n",
    "df[\"Id\"].value_counts()  # ID 10127 has occured twice\n",
    "df[\"Type\"].value_counts()  # Update was the highest mode of communication\n",
    "df[\"FeedBack\"].value_counts() # Need to change values in Feedback column"
   ]
  },
  {
   "cell_type": "code",
   "execution_count": 9,
   "id": "a2f1868f",
   "metadata": {},
   "outputs": [
    {
     "name": "stdout",
     "output_type": "stream",
     "text": [
      "Others 6\n",
      "NC 2\n",
      "nc 2\n",
      "UNDECIDED 9\n",
      "Undecided 9\n",
      "NI 2\n",
      "undecided  10\n",
      "undecided 9\n"
     ]
    }
   ],
   "source": [
    "for i in df[\"FeedBack\"].value_counts().index:\n",
    "    print(i,len(i))"
   ]
  },
  {
   "cell_type": "code",
   "execution_count": 10,
   "id": "6a33ad0b",
   "metadata": {},
   "outputs": [],
   "source": [
    "def feed(i):\n",
    "    if i in [\"UNDECIDED\",\"Undecided\",\"undecided\",\"undecided \"]:\n",
    "        return \"UND\"\n",
    "    elif i in [\"nc\",\"NC\"]:\n",
    "        return \"NC\"\n",
    "    elif i==\"Others\":\n",
    "        return \"Others\"\n",
    "    elif i==\"NI\":\n",
    "        return \"NI\"\n"
   ]
  },
  {
   "cell_type": "code",
   "execution_count": 11,
   "id": "8b648e69",
   "metadata": {},
   "outputs": [],
   "source": [
    "df[\"FeedBack\"]=df[\"FeedBack\"].apply(feed)"
   ]
  },
  {
   "cell_type": "raw",
   "id": "dae351a9",
   "metadata": {},
   "source": [
    "2. Whether any inference could be reasoned out from the dataset."
   ]
  },
  {
   "cell_type": "code",
   "execution_count": 12,
   "id": "ea7a8de7",
   "metadata": {},
   "outputs": [],
   "source": [
    "df.isnull().sum()\n",
    "df=df.sort_values([\"User\",\"Date\"]) #We have data for the same Date from morning 10 am to 7pm in the evening and just 5 users\n",
    "df.loc[df[\"FeedBack\"].isnull()]  #Data is missing for user A1003 and A1002\n",
    "df.loc[(df[\"User\"]==\"A1002\")&(df[\"Id\"]==10127)] # User A1002 has contacted lead 10127 via Email 2/4 times at the same time.\n",
    "#Looks like he/she sent multiple emails in the same instant.So let's fill in Email\n",
    "\n",
    "#Also\n",
    "pd.crosstab(df[\"Type\"],df[\"FeedBack\"]) #Email is the most frequent mode of communication where \n",
    "#the feedback belongs to others category\n",
    "df.loc[df[\"Type\"].isnull(),\"Type\"]=\"Email\""
   ]
  },
  {
   "cell_type": "code",
   "execution_count": 13,
   "id": "dc66e59c",
   "metadata": {},
   "outputs": [],
   "source": [
    "df.loc[df[\"FeedBack\"].isnull()]  # For both rows containing missing values in Feedback, \n",
    "#the mode of communication was through Update\n",
    "pd.crosstab(df[\"FeedBack\"],df[\"Type\"])  #For mode of communication through update, the mode for Feedback is NC\n",
    "df.loc[df[\"FeedBack\"].isnull(),\"FeedBack\"]=\"NC\" #Fill missing value"
   ]
  },
  {
   "cell_type": "code",
   "execution_count": 14,
   "id": "040285b8",
   "metadata": {},
   "outputs": [
    {
     "data": {
      "text/plain": [
       "<AxesSubplot:xlabel='Type'>"
      ]
     },
     "execution_count": 14,
     "metadata": {},
     "output_type": "execute_result"
    },
    {
     "data": {
      "image/png": "[encoded data removed]",
      "text/plain": [
       "<Figure size 432x288 with 1 Axes>"
      ]
     },
     "metadata": {
      "needs_background": "light"
     },
     "output_type": "display_data"
    }
   ],
   "source": [
    "df.isnull().sum()\n",
    "#df.groupby(\"User\")[[\"CountA\",\"CountB\",\"CountC\"]].mean().plot(kind=\"bar\")\n",
    "#pd.crosstab(df[\"User\"],df[\"Email\"]).plot(kind=\"bar\")\n",
    "#df.groupby(\"User\")[[\"Email\",\"Update\",\"Visit\"]].mean().plot(kind=\"bar\")\n",
    "#Email and Update were most frequent modes of communication. \n",
    "#A1005 and A1002 relied almost solely on Email to communicate with leads\n",
    "#df.loc[df[\"User\"]==\"A1003\"][\"FeedBack\"].value_counts()\n",
    "#df.groupby([\"User\",\"Type\"])[\"FeedBack\"].max().plot(kind=\"bar\")\n",
    "df.FeedBack.value_counts()\n",
    "pd.crosstab(df[\"Type\"],df[\"FeedBack\"]).plot(kind=\"bar\")\n",
    "#Most of the people who could not be contacted were communicated via update. Therefore update doesnt seem as an effective\n",
    "#mode of communication"
   ]
  },
  {
   "cell_type": "code",
   "execution_count": 15,
   "id": "f1a1fdf8",
   "metadata": {},
   "outputs": [
    {
     "data": {
      "text/plain": [
       "<AxesSubplot:xlabel='User'>"
      ]
     },
     "execution_count": 15,
     "metadata": {},
     "output_type": "execute_result"
    },
    {
     "data": {
      "image/png": "[encoded data removed]",
      "text/plain": [
       "<Figure size 432x288 with 1 Axes>"
      ]
     },
     "metadata": {
      "needs_background": "light"
     },
     "output_type": "display_data"
    }
   ],
   "source": [
    "pd.crosstab(df[\"User\"],df[\"FeedBack\"]).plot(kind=\"bar\")\n",
    "#User 3 and 1 are yet to contact many leads."
   ]
  },
  {
   "cell_type": "code",
   "execution_count": 16,
   "id": "837e25ee",
   "metadata": {},
   "outputs": [],
   "source": [
    "df=pd.concat([df,pd.get_dummies(df[\"Type\"],drop_first=True)],axis=1).drop([\"Type\",\"Id\",\"Date\"],axis=1)"
   ]
  },
  {
   "cell_type": "code",
   "execution_count": 17,
   "id": "a77f9bc2",
   "metadata": {},
   "outputs": [],
   "source": [
    "df[\"FeedBack\"].value_counts() #To convert it into a binary classification problem \n",
    "#we can roughly categorize people as contacted(1) or not contacted(0).\n",
    "def target(i):\n",
    "    if i==\"NC\":\n",
    "        return 0\n",
    "    else:\n",
    "        return 1\n",
    "    \n",
    "df[\"FeedBack\"]=df[\"FeedBack\"].apply(target)"
   ]
  },
  {
   "cell_type": "raw",
   "id": "23b666d2",
   "metadata": {},
   "source": [
    "3. Use any machine learning algorithm(s) to predict the Feedback. Reason out your choices. (Don't\n",
    "worry too much about the accuracy). (Please specify the criteria for selection of machine learning\n",
    "algorithm for solving the problem)"
   ]
  },
  {
   "cell_type": "code",
   "execution_count": 18,
   "id": "a163c34b",
   "metadata": {},
   "outputs": [
    {
     "data": {
      "image/png": "[encoded data removed]",
      "text/plain": [
       "<Figure size 432x288 with 1 Axes>"
      ]
     },
     "metadata": {
      "needs_background": "light"
     },
     "output_type": "display_data"
    },
    {
     "data": {
      "image/png": "[encoded data removed]",
      "text/plain": [
       "<Figure size 432x288 with 1 Axes>"
      ]
     },
     "metadata": {
      "needs_background": "light"
     },
     "output_type": "display_data"
    },
    {
     "data": {
      "image/png": "[encoded data removed]",
      "text/plain": [
       "<Figure size 432x288 with 1 Axes>"
      ]
     },
     "metadata": {
      "needs_background": "light"
     },
     "output_type": "display_data"
    }
   ],
   "source": [
    "import seaborn as sns\n",
    "import matplotlib.pyplot as plt\n",
    "for i in [\"CountA\",\"CountB\",\"CountC\"]:\n",
    "    plt.tight_layout()\n",
    "    sns.distplot(df[i])\n",
    "    plt.show()\n",
    "    \n",
    "#Scaling not needed as all 3 variables have values between 0 and 1"
   ]
  },
  {
   "cell_type": "code",
   "execution_count": 19,
   "id": "8a058b53",
   "metadata": {},
   "outputs": [
    {
     "data": {
      "text/plain": [
       "<AxesSubplot:>"
      ]
     },
     "execution_count": 19,
     "metadata": {},
     "output_type": "execute_result"
    },
    {
     "data": {
      "image/png": "[encoded data removed]",
      "text/plain": [
       "<Figure size 432x288 with 2 Axes>"
      ]
     },
     "metadata": {
      "needs_background": "light"
     },
     "output_type": "display_data"
    }
   ],
   "source": [
    "sns.heatmap(df.corr(),annot=True,cmap=\"Blues\")\n",
    "#there seems to be a moderate correlation between email(independent) and Feedback (dependent) variable which is good for our model.\n",
    "#On the other hand there is no multicollinearity within the data since no two independent variables have high correlation\n",
    "#among themselves"
   ]
  },
  {
   "cell_type": "code",
   "execution_count": 20,
   "id": "d03e066e",
   "metadata": {},
   "outputs": [],
   "source": [
    "df=df.drop(\"User\",axis=1)"
   ]
  },
  {
   "cell_type": "code",
   "execution_count": 21,
   "id": "2e20c389",
   "metadata": {},
   "outputs": [
    {
     "data": {
      "image/png": "[encoded data removed]",
      "text/plain": [
       "<Figure size 432x288 with 1 Axes>"
      ]
     },
     "metadata": {
      "needs_background": "light"
     },
     "output_type": "display_data"
    },
    {
     "data": {
      "image/png": "[encoded data removed]",
      "text/plain": [
       "<Figure size 432x288 with 1 Axes>"
      ]
     },
     "metadata": {
      "needs_background": "light"
     },
     "output_type": "display_data"
    },
    {
     "data": {
      "image/png": "[encoded data removed]",
      "text/plain": [
       "<Figure size 432x288 with 1 Axes>"
      ]
     },
     "metadata": {
      "needs_background": "light"
     },
     "output_type": "display_data"
    },
    {
     "data": {
      "image/png": "[encoded data removed]",
      "text/plain": [
       "<Figure size 432x288 with 1 Axes>"
      ]
     },
     "metadata": {
      "needs_background": "light"
     },
     "output_type": "display_data"
    },
    {
     "data": {
      "image/png": "[encoded data removed]",
      "text/plain": [
       "<Figure size 432x288 with 1 Axes>"
      ]
     },
     "metadata": {
      "needs_background": "light"
     },
     "output_type": "display_data"
    },
    {
     "data": {
      "image/png": "[encoded data removed]",
      "text/plain": [
       "<Figure size 432x288 with 1 Axes>"
      ]
     },
     "metadata": {
      "needs_background": "light"
     },
     "output_type": "display_data"
    },
    {
     "data": {
      "image/png": "[encoded data removed]",
      "text/plain": [
       "<Figure size 432x288 with 1 Axes>"
      ]
     },
     "metadata": {
      "needs_background": "light"
     },
     "output_type": "display_data"
    }
   ],
   "source": [
    "for i in df.columns:\n",
    "    plt.tight_layout()\n",
    "    sns.boxplot(df[i])\n",
    "    plt.show()\n",
    "    \n",
    "#No outliers detected"
   ]
  },
  {
   "cell_type": "code",
   "execution_count": 22,
   "id": "849b004f",
   "metadata": {},
   "outputs": [],
   "source": [
    "#We can use Breusch pagan test to check for autocorrelation within the data but for simplicity lets assume it to be non existant\n"
   ]
  },
  {
   "cell_type": "code",
   "execution_count": 23,
   "id": "a4f5f029",
   "metadata": {},
   "outputs": [],
   "source": [
    "#The major assumptions for our linear model are met\n",
    "#Absence of --> outliers,heteroscedasticity,multicollinearity,autocorrelation in the data\n",
    "#Thus we can try Logistic Regression to help in this binary classification task as our base model"
   ]
  },
  {
   "cell_type": "code",
   "execution_count": 24,
   "id": "97903609",
   "metadata": {},
   "outputs": [
    {
     "data": {
      "text/plain": [
       "1    36\n",
       "0    30\n",
       "Name: FeedBack, dtype: int64"
      ]
     },
     "execution_count": 24,
     "metadata": {},
     "output_type": "execute_result"
    }
   ],
   "source": [
    "df.head()\n",
    "X=df.drop(\"FeedBack\",axis=1)\n",
    "y=df[\"FeedBack\"]\n",
    "\n",
    "#Separating independent and target variables\n",
    "y.value_counts()# Data is roughly balanced"
   ]
  },
  {
   "cell_type": "code",
   "execution_count": 25,
   "id": "03029f5a",
   "metadata": {},
   "outputs": [
    {
     "data": {
      "text/plain": [
       "array([0.85714286, 1.        , 0.92307692, 0.72727273, 0.92307692])"
      ]
     },
     "execution_count": 25,
     "metadata": {},
     "output_type": "execute_result"
    }
   ],
   "source": [
    "from sklearn.linear_model import LogisticRegression\n",
    "from sklearn.model_selection import cross_val_score #Since we have less data its good to use cross val than train test split\n",
    "log=LogisticRegression()\n",
    "cross_val_score(log,X,y,scoring=\"f1\",cv=5)\n"
   ]
  },
  {
   "cell_type": "code",
   "execution_count": 26,
   "id": "f4668e7e",
   "metadata": {},
   "outputs": [
    {
     "name": "stdout",
     "output_type": "stream",
     "text": [
      "0.9333333333333333\n",
      "              precision    recall  f1-score   support\n",
      "\n",
      "           0       0.90      1.00      0.95         9\n",
      "           1       1.00      0.88      0.93         8\n",
      "\n",
      "    accuracy                           0.94        17\n",
      "   macro avg       0.95      0.94      0.94        17\n",
      "weighted avg       0.95      0.94      0.94        17\n",
      "\n"
     ]
    }
   ],
   "source": [
    "(cross_val_score(log,X,y,scoring=\"f1\",cv=5)).mean()\n",
    "#We choose f1 score as evaluation metrics over accuracy as it gives us estimate of \n",
    "#how well the model is able to predict both the classes\n",
    "\n",
    "#Lets check precision and recall for this\n",
    "from sklearn.metrics import classification_report,f1_score\n",
    "from sklearn.model_selection import train_test_split\n",
    "xtrain,xtest,ytrain,ytest=train_test_split(X,y,test_size=0.25,random_state=10)\n",
    "model1=log.fit(xtrain,ytrain)\n",
    "preds1=model1.predict(xtest)\n",
    "print(f1_score(ytest,preds1))\n",
    "print(classification_report(ytest,preds1))\n",
    "\n",
    "# As we have seen precision and recall fluctuate by a margin of roughly 10% and f1 score by  margin of 2%\n",
    "#It maybe because of little data.But f1 score is good enough.\n",
    "#Lets try a more complex model\n"
   ]
  },
  {
   "cell_type": "code",
   "execution_count": 27,
   "id": "0c729116",
   "metadata": {},
   "outputs": [
    {
     "name": "stdout",
     "output_type": "stream",
     "text": [
      "0.9333333333333333\n",
      "              precision    recall  f1-score   support\n",
      "\n",
      "           0       0.90      1.00      0.95         9\n",
      "           1       1.00      0.88      0.93         8\n",
      "\n",
      "    accuracy                           0.94        17\n",
      "   macro avg       0.95      0.94      0.94        17\n",
      "weighted avg       0.95      0.94      0.94        17\n",
      "\n"
     ]
    }
   ],
   "source": [
    "from sklearn.naive_bayes import GaussianNB\n",
    "gnb=GaussianNB()\n",
    "xtrain,xtest,ytrain,ytest=train_test_split(X,y,test_size=0.25,random_state=10)\n",
    "model2=gnb.fit(xtrain,ytrain)\n",
    "preds2=model2.predict(xtest)\n",
    "print(f1_score(ytest,preds2))\n",
    "print(classification_report(ytest,preds2))\n",
    "\n",
    "#Same results\n"
   ]
  },
  {
   "cell_type": "code",
   "execution_count": 28,
   "id": "145f8f07",
   "metadata": {},
   "outputs": [
    {
     "name": "stdout",
     "output_type": "stream",
     "text": [
      "0.6666666666666667\n",
      "              precision    recall  f1-score   support\n",
      "\n",
      "           0       0.75      0.33      0.46         9\n",
      "           1       0.54      0.88      0.67         8\n",
      "\n",
      "    accuracy                           0.59        17\n",
      "   macro avg       0.64      0.60      0.56        17\n",
      "weighted avg       0.65      0.59      0.56        17\n",
      "\n"
     ]
    }
   ],
   "source": [
    "from sklearn.ensemble import RandomForestClassifier\n",
    "rf=RandomForestClassifier()\n",
    "xtrain,xtest,ytrain,ytest=train_test_split(X,y,test_size=0.25,random_state=10)\n",
    "model3=rf.fit(xtrain,ytrain)\n",
    "preds3=model3.predict(xtest)\n",
    "print(f1_score(ytest,preds3))\n",
    "print(classification_report(ytest,preds3))\n",
    "\n",
    "#Random forest helped us deal with less data and \n",
    "#Random forest works because it combines several weak learners parallely and takes mode of their individual output\n",
    "#It also helps avoid overfitting(a problem in Decision trees) as instead of building forest on all predictors\n",
    "#it considers just a random subset of it"
   ]
  },
  {
   "cell_type": "code",
   "execution_count": 29,
   "id": "f142bc40",
   "metadata": {},
   "outputs": [
    {
     "name": "stdout",
     "output_type": "stream",
     "text": [
      "0.6666666666666667\n",
      "              precision    recall  f1-score   support\n",
      "\n",
      "           0       0.75      0.33      0.46         9\n",
      "           1       0.54      0.88      0.67         8\n",
      "\n",
      "    accuracy                           0.59        17\n",
      "   macro avg       0.64      0.60      0.56        17\n",
      "weighted avg       0.65      0.59      0.56        17\n",
      "\n"
     ]
    }
   ],
   "source": [
    "#Lets try 1 last boosting model that should work better. Being an ensemble it also combines several weak learners \n",
    "#but in a sequential way such that all learners have different voice in determining the output based on their assigned weights\n",
    "import xgboost as xgb\n",
    "xg=xgb.XGBClassifier()\n",
    "model4=xg.fit(xtrain,ytrain)\n",
    "preds4=model4.predict(xtest)\n",
    "print(f1_score(ytest,preds4))\n",
    "print(classification_report(ytest,preds4))\n",
    "#Worse results"
   ]
  },
  {
   "cell_type": "code",
   "execution_count": 30,
   "id": "6cfbece4",
   "metadata": {},
   "outputs": [],
   "source": [
    "#Thus the basic Logistic regression and Gaussian naive bayes model performed best."
   ]
  },
  {
   "cell_type": "markdown",
   "id": "a8b3f64a",
   "metadata": {},
   "source": [
    "# Question.1.\n",
    "Consider a joint distribution table between the three binary variables,\n",
    "i. ) showing that there exists an ordered numbering of the nodes and for each node there are no such\n",
    "links going to a low-numbered node which also explains that there is no directed cycle within a\n",
    "directed graph.\n",
    "a b c p(a,b,c)\n",
    "0 0 0 0.192\n",
    "0 0 1 0.144\n",
    "0 1 0 0.048\n",
    "0 1 1 0.216\n",
    "1 0 0 0.192\n",
    "1 0 1 0.064\n",
    "1 1 0 0.048\n",
    "1 1 1 0.096\n",
    "ii.) Also, show that when the variable a and b will be marginally dependent and when they will be\n",
    "independent.\n",
    "iii.) Evaluate the distribution p(a), p(c|a), and, p(b|c) corresponding to the table. Plot a corresponding\n",
    "directed graph. Hence show p(a|b|c) = p(a)p(c|a)p(b|c)."
   ]
  },
  {
   "cell_type": "code",
   "execution_count": 33,
   "id": "38b96cb6",
   "metadata": {},
   "outputs": [
    {
     "data": {
      "text/html": [
       "<div>\n",
       "<style scoped>\n",
       "    .dataframe tbody tr th:only-of-type {\n",
       "        vertical-align: middle;\n",
       "    }\n",
       "\n",
       "    .dataframe tbody tr th {\n",
       "        vertical-align: top;\n",
       "    }\n",
       "\n",
       "    .dataframe thead th {\n",
       "        text-align: right;\n",
       "    }\n",
       "</style>\n",
       "<table border=\"1\" class=\"dataframe\">\n",
       "  <thead>\n",
       "    <tr style=\"text-align: right;\">\n",
       "      <th></th>\n",
       "      <th>a</th>\n",
       "      <th>b</th>\n",
       "      <th>c</th>\n",
       "      <th>p(a,b,c)</th>\n",
       "    </tr>\n",
       "  </thead>\n",
       "  <tbody>\n",
       "    <tr>\n",
       "      <th>0</th>\n",
       "      <td>0</td>\n",
       "      <td>0</td>\n",
       "      <td>0</td>\n",
       "      <td>0.192</td>\n",
       "    </tr>\n",
       "    <tr>\n",
       "      <th>1</th>\n",
       "      <td>0</td>\n",
       "      <td>0</td>\n",
       "      <td>1</td>\n",
       "      <td>0.144</td>\n",
       "    </tr>\n",
       "    <tr>\n",
       "      <th>2</th>\n",
       "      <td>0</td>\n",
       "      <td>1</td>\n",
       "      <td>0</td>\n",
       "      <td>0.048</td>\n",
       "    </tr>\n",
       "    <tr>\n",
       "      <th>3</th>\n",
       "      <td>0</td>\n",
       "      <td>1</td>\n",
       "      <td>1</td>\n",
       "      <td>0.216</td>\n",
       "    </tr>\n",
       "    <tr>\n",
       "      <th>4</th>\n",
       "      <td>1</td>\n",
       "      <td>0</td>\n",
       "      <td>0</td>\n",
       "      <td>0.192</td>\n",
       "    </tr>\n",
       "    <tr>\n",
       "      <th>5</th>\n",
       "      <td>1</td>\n",
       "      <td>0</td>\n",
       "      <td>1</td>\n",
       "      <td>0.064</td>\n",
       "    </tr>\n",
       "    <tr>\n",
       "      <th>6</th>\n",
       "      <td>1</td>\n",
       "      <td>1</td>\n",
       "      <td>0</td>\n",
       "      <td>0.048</td>\n",
       "    </tr>\n",
       "    <tr>\n",
       "      <th>7</th>\n",
       "      <td>1</td>\n",
       "      <td>1</td>\n",
       "      <td>1</td>\n",
       "      <td>0.096</td>\n",
       "    </tr>\n",
       "  </tbody>\n",
       "</table>\n",
       "</div>"
      ],
      "text/plain": [
       "   a  b  c  p(a,b,c)\n",
       "0  0  0  0     0.192\n",
       "1  0  0  1     0.144\n",
       "2  0  1  0     0.048\n",
       "3  0  1  1     0.216\n",
       "4  1  0  0     0.192\n",
       "5  1  0  1     0.064\n",
       "6  1  1  0     0.048\n",
       "7  1  1  1     0.096"
      ]
     },
     "execution_count": 33,
     "metadata": {},
     "output_type": "execute_result"
    }
   ],
   "source": [
    "jdt=pd.DataFrame({\"a\":[0,0,0,0,1,1,1,1],\"b\":[0,0,1,1,0,0,1,1],\"c\":[0,1,0,1,0,1,0,1],\"p(a,b,c)\":[0.192,0.144,0.048,0.216,0.192,0.064,0.048,0.096]})\n",
    "jdt"
   ]
  },
  {
   "cell_type": "raw",
   "id": "9a9863b1",
   "metadata": {},
   "source": [
    "i. ) showing that there exists an ordered numbering of the nodes and for each node there are no such\n",
    "links going to a low-numbered node which also explains that there is no directed cycle within a\n",
    "directed graph."
   ]
  },
  {
   "cell_type": "code",
   "execution_count": 41,
   "id": "e2686205",
   "metadata": {},
   "outputs": [
    {
     "data": {
      "image/png": "[encoded data removed]",
      "text/plain": [
       "<Figure size 432x288 with 1 Axes>"
      ]
     },
     "metadata": {},
     "output_type": "display_data"
    }
   ],
   "source": [
    "import networkx as nx\n",
    "G = nx.DiGraph()\n",
    "nodes = np.arange(0, 3).tolist()\n",
    "G.add_nodes_from(nodes)\n",
    "G.add_edges_from([(2,0), (2,1)])\n",
    "pos = {2:(10, 10),0:(8.5, 8.5), 1:(11.5, 8.5)}\n",
    "labels = {0:\"a\",1:\"b\", 2: \"c\"}\n",
    "nx.draw_networkx(G, pos = pos, labels = labels, arrows = True,node_shape = \"s\", node_color = \"white\")\n",
    "plt.title(\"Directed acyclic graph\")\n",
    "plt.savefig(\"Directed acyclic graph using networkx.jpeg\",dpi = 300)\n",
    "plt.show()\n",
    "\n",
    "#The followinng is a directed graph in which we have edges indicating directions of dependency of one node on the other.\n",
    "\n",
    "#This graph shows three nodes a,b,c with c being the parent node on which a and b(child nodes) depend.\n",
    "\n",
    "#This directed graph is acyclic i.e. it has no cycles within it. It means going by Depth First search, there is no route through\n",
    "#which we can start and end at the same node.\n",
    "#For example If we start from c we can visit b but b does not have any new neighbour except c which is the parent, \n",
    "#so the cycle doesnt exist for c\n",
    "\n",
    "#Similarly for a and b, if we start from any one of these nodes we cannot move forward because they have edges directed towards them.\n",
    "\n",
    "#Thus there is no directed cycle within this directed graph"
   ]
  },
  {
   "cell_type": "raw",
   "id": "1c1bc68c",
   "metadata": {},
   "source": [
    "ii.) Also, show that when the variable a and b will be marginally dependent and when they will be\n",
    "independent."
   ]
  },
  {
   "cell_type": "code",
   "execution_count": 61,
   "id": "c10f6908",
   "metadata": {},
   "outputs": [
    {
     "data": {
      "text/plain": [
       "False"
      ]
     },
     "execution_count": 61,
     "metadata": {},
     "output_type": "execute_result"
    }
   ],
   "source": [
    "#Two variables are marginally independent if the following equation satisfies:\n",
    "#                     P(X|Y)=P(X)\n",
    "#This is to say that knowing the value of Y does not change our belief about X.\n",
    "#For example fire alarm will get triggered given there is smoke. However, given a particular brand of cigarette our\n",
    "#belief about fire alarm will not change since its dependent on smoke and not on brand of cigarette.\n",
    "\n",
    "#Marginal dependence will occur when following equation satisfies:\n",
    "#              P(X|Y)=P(X,Y)/P(Y)\n",
    "#This means knowledge of Y influences our belief about X\n",
    "\n",
    "# If a=0,b=0\n",
    "pab=jdt.loc[(jdt[\"a\"]==0)&(jdt[\"b\"]==0),\"p(a,b,c)\"].sum(axis=0)\n",
    "pb=jdt.loc[jdt[\"b\"]==0,\"p(a,b,c)\"].sum(axis=0)\n",
    "pa=jdt.loc[jdt[\"a\"]==0,\"p(a,b,c)\"].sum(axis=0)\n",
    "\n",
    "a_given_b=pab/pb  #P(a|b)\n",
    "\n",
    "a_given_b==pa  #Result is False   # Therefore in this case both variables are marginally dependent\n",
    "\n",
    "#a and b will be marginally dependent when our knowledge of b does not affect our knowledge of a\n",
    "#              p(a|b)=p(a)\n",
    "#That is to say marginal probability of a is same as conditional probability of a given b.\n"
   ]
  },
  {
   "cell_type": "raw",
   "id": "b5ecf44a",
   "metadata": {},
   "source": [
    "iii.) Evaluate the distribution p(a), p(c|a), and, p(b|c) corresponding to the table. Plot a corresponding\n",
    "directed graph. Hence show p(a|b|c) = p(a)p(c|a)p(b|c)."
   ]
  },
  {
   "cell_type": "code",
   "execution_count": 85,
   "id": "d89b42c7",
   "metadata": {},
   "outputs": [
    {
     "data": {
      "text/html": [
       "<div>\n",
       "<style scoped>\n",
       "    .dataframe tbody tr th:only-of-type {\n",
       "        vertical-align: middle;\n",
       "    }\n",
       "\n",
       "    .dataframe tbody tr th {\n",
       "        vertical-align: top;\n",
       "    }\n",
       "\n",
       "    .dataframe thead th {\n",
       "        text-align: right;\n",
       "    }\n",
       "</style>\n",
       "<table border=\"1\" class=\"dataframe\">\n",
       "  <thead>\n",
       "    <tr style=\"text-align: right;\">\n",
       "      <th></th>\n",
       "      <th>a=0</th>\n",
       "      <th>a=1</th>\n",
       "    </tr>\n",
       "  </thead>\n",
       "  <tbody>\n",
       "    <tr>\n",
       "      <th>0</th>\n",
       "      <td>0.6</td>\n",
       "      <td>0.4</td>\n",
       "    </tr>\n",
       "  </tbody>\n",
       "</table>\n",
       "</div>"
      ],
      "text/plain": [
       "   a=0  a=1\n",
       "0  0.6  0.4"
      ]
     },
     "execution_count": 85,
     "metadata": {},
     "output_type": "execute_result"
    }
   ],
   "source": [
    "marg_prob_a=pd.DataFrame({\"a=0\":[jdt.loc[(jdt[\"a\"]==0),\"p(a,b,c)\"].sum(axis=0)],\"a=1\":[jdt.loc[(jdt[\"a\"]==1),\"p(a,b,c)\"].sum(axis=0)]})\n",
    "marg_prob_a"
   ]
  },
  {
   "cell_type": "code",
   "execution_count": 84,
   "id": "ed807854",
   "metadata": {},
   "outputs": [
    {
     "data": {
      "text/html": [
       "<div>\n",
       "<style scoped>\n",
       "    .dataframe tbody tr th:only-of-type {\n",
       "        vertical-align: middle;\n",
       "    }\n",
       "\n",
       "    .dataframe tbody tr th {\n",
       "        vertical-align: top;\n",
       "    }\n",
       "\n",
       "    .dataframe thead th {\n",
       "        text-align: right;\n",
       "    }\n",
       "</style>\n",
       "<table border=\"1\" class=\"dataframe\">\n",
       "  <thead>\n",
       "    <tr style=\"text-align: right;\">\n",
       "      <th></th>\n",
       "      <th>a=0</th>\n",
       "      <th>a=1</th>\n",
       "    </tr>\n",
       "  </thead>\n",
       "  <tbody>\n",
       "    <tr>\n",
       "      <th>c=0</th>\n",
       "      <td>0.24</td>\n",
       "      <td>0.24</td>\n",
       "    </tr>\n",
       "    <tr>\n",
       "      <th>c=1</th>\n",
       "      <td>0.36</td>\n",
       "      <td>0.16</td>\n",
       "    </tr>\n",
       "  </tbody>\n",
       "</table>\n",
       "</div>"
      ],
      "text/plain": [
       "      a=0   a=1\n",
       "c=0  0.24  0.24\n",
       "c=1  0.36  0.16"
      ]
     },
     "execution_count": 84,
     "metadata": {},
     "output_type": "execute_result"
    }
   ],
   "source": [
    "cond_c_given_a=pd.DataFrame({\"a=0\":[0.24,0.36],\"a=1\":[0.24,0.16]},index=[\"c=0\",\"c=1\"],columns=[\"a=0\",\"a=1\"])\n",
    "cond_c_given_a"
   ]
  },
  {
   "cell_type": "code",
   "execution_count": 87,
   "id": "2747c3ff",
   "metadata": {},
   "outputs": [
    {
     "data": {
      "text/html": [
       "<div>\n",
       "<style scoped>\n",
       "    .dataframe tbody tr th:only-of-type {\n",
       "        vertical-align: middle;\n",
       "    }\n",
       "\n",
       "    .dataframe tbody tr th {\n",
       "        vertical-align: top;\n",
       "    }\n",
       "\n",
       "    .dataframe thead th {\n",
       "        text-align: right;\n",
       "    }\n",
       "</style>\n",
       "<table border=\"1\" class=\"dataframe\">\n",
       "  <thead>\n",
       "    <tr style=\"text-align: right;\">\n",
       "      <th></th>\n",
       "      <th>c=0</th>\n",
       "      <th>c=1</th>\n",
       "    </tr>\n",
       "  </thead>\n",
       "  <tbody>\n",
       "    <tr>\n",
       "      <th>b=0</th>\n",
       "      <td>0.384</td>\n",
       "      <td>0.208</td>\n",
       "    </tr>\n",
       "    <tr>\n",
       "      <th>b=1</th>\n",
       "      <td>0.096</td>\n",
       "      <td>0.312</td>\n",
       "    </tr>\n",
       "  </tbody>\n",
       "</table>\n",
       "</div>"
      ],
      "text/plain": [
       "       c=0    c=1\n",
       "b=0  0.384  0.208\n",
       "b=1  0.096  0.312"
      ]
     },
     "execution_count": 87,
     "metadata": {},
     "output_type": "execute_result"
    }
   ],
   "source": [
    "cond_b_given_c=pd.DataFrame({\"c=0\":[0.384,0.096],\"c=1\":[0.208,0.312]},index=[\"b=0\",\"b=1\"],columns=[\"c=0\",\"c=1\"])\n",
    "cond_b_given_c"
   ]
  },
  {
   "cell_type": "code",
   "execution_count": 93,
   "id": "0b54d68e",
   "metadata": {},
   "outputs": [
    {
     "data": {
      "image/png": "[encoded data removed]",
      "text/plain": [
       "<Figure size 432x288 with 1 Axes>"
      ]
     },
     "metadata": {},
     "output_type": "display_data"
    }
   ],
   "source": [
    "G = nx.DiGraph()\n",
    "nodes = np.arange(0, 3).tolist()\n",
    "G.add_nodes_from(nodes)\n",
    "G.add_edges_from([(0,2), (2,1)])\n",
    "pos = {0:(10, 10),2:(10, 8.5), 1:(10, 6)}\n",
    "labels = {0:\"a\",1:\"b\", 2: \"c\"}\n",
    "nx.draw_networkx(G, pos = pos, labels = labels, arrows = True,node_shape = \"s\", node_color = \"white\")\n",
    "plt.title(\"Marginal distribution of a and Conditional distribution of c|a,b|c\")\n",
    "plt.savefig(\"Directed acyclic graph using networkx.jpeg\",dpi = 300)\n",
    "plt.show()\n"
   ]
  },
  {
   "cell_type": "code",
   "execution_count": null,
   "id": "da856d63",
   "metadata": {},
   "outputs": [],
   "source": [
    "jdt\n",
    "#p(a|b|c) = p(a)p(c|a)p(b|c)\n",
    "\n",
    "#LHS p(a|b|c) = P(a)P(c∩a)P(b∩c)/P(c)P(a)=P(c∩a)P(b∩c)/P(c)\n",
    "\n",
    "#RHS p(a)*p(c,a)/p(a)*p(b,c)/p(c)=p(c,a)*p(b,c)/p(c) =p(c∩a)p(b∩c)/p(c)\n",
    "\n",
    "#Thus LHS=RHS\n",
    "# p(a|b|c) = p(a)p(c|a)p(b|c)\n",
    "#Hence proved\n"
   ]
  }
 ],
 "metadata": {
  "kernelspec": {
   "display_name": "Python 3 (ipykernel)",
   "language": "python",
   "name": "python3"
  },
  "language_info": {
   "codemirror_mode": {
    "name": "ipython",
    "version": 3
   },
   "file_extension": ".py",
   "mimetype": "text/x-python",
   "name": "python",
   "nbconvert_exporter": "python",
   "pygments_lexer": "ipython3",
   "version": "3.9.7"
  }
 },
 "nbformat": 4,
 "nbformat_minor": 5
}
